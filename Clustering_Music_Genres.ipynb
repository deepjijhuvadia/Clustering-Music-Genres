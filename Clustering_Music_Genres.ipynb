{
  "nbformat": 4,
  "nbformat_minor": 0,
  "metadata": {
    "colab": {
      "provenance": []
    },
    "kernelspec": {
      "name": "python3",
      "display_name": "Python 3"
    },
    "language_info": {
      "name": "python"
    }
  },
  "cells": [
    {
      "cell_type": "code",
      "source": [
        "import pandas as pd\n",
        "import numpy as np\n",
        "from sklearn import cluster\n",
        "\n",
        "data = pd.read_csv(\"/content/Spotify-2000.csv\")\n",
        "print(data.head())"
      ],
      "metadata": {
        "id": "vIu9-ml2vADr"
      },
      "execution_count": null,
      "outputs": []
    },
    {
      "cell_type": "code",
      "source": [
        "data = data.drop(\"Index\",axis=1)"
      ],
      "metadata": {
        "id": "JKifie-6vPl9"
      },
      "execution_count": 2,
      "outputs": []
    },
    {
      "cell_type": "code",
      "source": [
        "print(data.corr())"
      ],
      "metadata": {
        "id": "IVVX7YsXvhAF"
      },
      "execution_count": null,
      "outputs": []
    },
    {
      "cell_type": "code",
      "source": [
        "data2 = data[[\"Beats Per Minute (BPM)\", \"Loudness (dB)\",\n",
        "              \"Liveness\", \"Valence\", \"Acousticness\",\n",
        "              \"Speechiness\"]]\n",
        "\n",
        "from sklearn.preprocessing import MinMaxScaler\n",
        "for i in data.columns:\n",
        "    MinMaxScaler(i)\n",
        "\n",
        "from sklearn.cluster import KMeans\n",
        "kmeans = KMeans(n_clusters=10)\n",
        "clusters = kmeans.fit_predict(data2)"
      ],
      "metadata": {
        "id": "XH45wxvUvpQ3"
      },
      "execution_count": null,
      "outputs": []
    },
    {
      "cell_type": "code",
      "source": [
        "data[\"Music Segments\"] = clusters\n",
        "MinMaxScaler(data[\"Music Segments\"])\n",
        "data[\"Music Segments\"] = data[\"Music Segments\"].map({1: \"Cluster 1\", 2:\n",
        "    \"Cluster 2\", 3: \"Cluster 3\", 4: \"Cluster 4\", 5: \"Cluster 5\",\n",
        "    6: \"Cluster 6\", 7: \"Cluster 7\", 8: \"Cluster 8\",\n",
        "    9: \"Cluster 9\", 10: \"Cluster 10\"})"
      ],
      "metadata": {
        "id": "iAGo0mDOvtv4"
      },
      "execution_count": 5,
      "outputs": []
    },
    {
      "cell_type": "code",
      "source": [
        "print(data.head())"
      ],
      "metadata": {
        "id": "cN7U2Y4VvxIQ"
      },
      "execution_count": null,
      "outputs": []
    },
    {
      "cell_type": "code",
      "source": [
        "import plotly.graph_objects as go\n",
        "PLOT = go.Figure()\n",
        "for i in list(data[\"Music Segments\"].unique()):\n",
        "\n",
        "\n",
        "    PLOT.add_trace(go.Scatter3d(x = data[data[\"Music Segments\"]== i]['Beats Per Minute (BPM)'],\n",
        "                                y = data[data[\"Music Segments\"] == i]['Energy'],\n",
        "                                z = data[data[\"Music Segments\"] == i]['Danceability'],\n",
        "                                mode = 'markers',marker_size = 6, marker_line_width = 1,\n",
        "                                name = str(i)))\n",
        "PLOT.update_traces(hovertemplate='Beats Per Minute (BPM): %{x} <br>Energy: %{y} <br>Danceability: %{z}')\n",
        "\n",
        "\n",
        "PLOT.update_layout(width = 800, height = 800, autosize = True, showlegend = True,\n",
        "                   scene = dict(xaxis=dict(title = 'Beats Per Minute (BPM)', titlefont_color = 'black'),\n",
        "                                yaxis=dict(title = 'Energy', titlefont_color = 'black'),\n",
        "                                zaxis=dict(title = 'Danceability', titlefont_color = 'black')),\n",
        "                   font = dict(family = \"Gilroy\", color  = 'black', size = 12))"
      ],
      "metadata": {
        "id": "YbLttUSWvzaT"
      },
      "execution_count": null,
      "outputs": []
    }
  ]
}